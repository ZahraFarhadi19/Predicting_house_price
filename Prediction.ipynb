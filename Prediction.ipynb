{
 "cells": [
  {
   "cell_type": "markdown",
   "metadata": {},
   "source": [
    "# Udacity Predicting House Prices Example.\n",
    "\n",
    "This project is done through Excel Spreadsheet in Udacity as an example to prepare me to for the Predictive Business Analys Nanodegree Program.\n",
    "I wanted to look deepter into it and find the solution using Python. Therefore, I redid it with python and here is my solution. \n"
   ]
  },
  {
   "cell_type": "markdown",
   "metadata": {},
   "source": [
    "There are two csv files. One is called \"past sales data\" and the other one is \"home up for bit\". The second dataset already has the predicted prices for each house. However, I want to find out the formula used to calculate that. The datasets are fake!\n",
    "\n",
    "I am going to to create a linear regression model using the \"house example\" data set to be able to predict the price of the houses by their square feet, bedrooms and bathrooms"
   ]
  },
  {
   "cell_type": "code",
   "execution_count": 45,
   "metadata": {},
   "outputs": [],
   "source": [
    "#importing the required modules\n",
    "import numpy as np\n",
    "import pandas as pd\n",
    "import matplotlib.pyplot as plt\n",
    "import seaborn as sns \n",
    "import mpl_toolkits\n",
    "%matplotlib inline"
   ]
  },
  {
   "cell_type": "markdown",
   "metadata": {},
   "source": [
    "# Data Ingestion\n",
    "\n",
    "Here, we read the two datasets"
   ]
  },
  {
   "cell_type": "code",
   "execution_count": 47,
   "metadata": {},
   "outputs": [],
   "source": [
    "houses = pd.read_csv(\"past_sales_data.csv\")\n",
    "bid = pd.read_csv('homes_up_for_bid.csv')"
   ]
  },
  {
   "cell_type": "markdown",
   "metadata": {},
   "source": [
    "Running some descriptive analysis on the house data"
   ]
  },
  {
   "cell_type": "code",
   "execution_count": 48,
   "metadata": {},
   "outputs": [
    {
     "name": "stdout",
     "output_type": "stream",
     "text": [
      "   square feet  bedrooms  bathrooms   price\n",
      "0         3000         4          5  564690\n",
      "1         2000         3          3  413996\n",
      "2         2100         4          1  338508\n",
      "3         2000         4          2  376080\n",
      "4         1800         2          3  263242\n",
      "59\n",
      "Index(['square feet', 'bedrooms', 'bathrooms', 'price'], dtype='object')\n"
     ]
    },
    {
     "data": {
      "text/html": [
       "<div>\n",
       "<style scoped>\n",
       "    .dataframe tbody tr th:only-of-type {\n",
       "        vertical-align: middle;\n",
       "    }\n",
       "\n",
       "    .dataframe tbody tr th {\n",
       "        vertical-align: top;\n",
       "    }\n",
       "\n",
       "    .dataframe thead th {\n",
       "        text-align: right;\n",
       "    }\n",
       "</style>\n",
       "<table border=\"1\" class=\"dataframe\">\n",
       "  <thead>\n",
       "    <tr style=\"text-align: right;\">\n",
       "      <th></th>\n",
       "      <th>square feet</th>\n",
       "      <th>bedrooms</th>\n",
       "      <th>bathrooms</th>\n",
       "      <th>price</th>\n",
       "    </tr>\n",
       "  </thead>\n",
       "  <tbody>\n",
       "    <tr>\n",
       "      <th>count</th>\n",
       "      <td>59.000000</td>\n",
       "      <td>59.000000</td>\n",
       "      <td>59.000000</td>\n",
       "      <td>59.000000</td>\n",
       "    </tr>\n",
       "    <tr>\n",
       "      <th>mean</th>\n",
       "      <td>1877.033898</td>\n",
       "      <td>2.728814</td>\n",
       "      <td>2.423729</td>\n",
       "      <td>346081.762712</td>\n",
       "    </tr>\n",
       "    <tr>\n",
       "      <th>std</th>\n",
       "      <td>582.721705</td>\n",
       "      <td>1.095925</td>\n",
       "      <td>1.053784</td>\n",
       "      <td>134450.664103</td>\n",
       "    </tr>\n",
       "    <tr>\n",
       "      <th>min</th>\n",
       "      <td>805.000000</td>\n",
       "      <td>1.000000</td>\n",
       "      <td>1.000000</td>\n",
       "      <td>114029.000000</td>\n",
       "    </tr>\n",
       "    <tr>\n",
       "      <th>25%</th>\n",
       "      <td>1437.500000</td>\n",
       "      <td>2.000000</td>\n",
       "      <td>2.000000</td>\n",
       "      <td>248915.500000</td>\n",
       "    </tr>\n",
       "    <tr>\n",
       "      <th>50%</th>\n",
       "      <td>1858.000000</td>\n",
       "      <td>3.000000</td>\n",
       "      <td>2.000000</td>\n",
       "      <td>338508.000000</td>\n",
       "    </tr>\n",
       "    <tr>\n",
       "      <th>75%</th>\n",
       "      <td>2235.500000</td>\n",
       "      <td>4.000000</td>\n",
       "      <td>3.000000</td>\n",
       "      <td>450275.500000</td>\n",
       "    </tr>\n",
       "    <tr>\n",
       "      <th>max</th>\n",
       "      <td>3000.000000</td>\n",
       "      <td>4.000000</td>\n",
       "      <td>5.000000</td>\n",
       "      <td>587000.000000</td>\n",
       "    </tr>\n",
       "  </tbody>\n",
       "</table>\n",
       "</div>"
      ],
      "text/plain": [
       "       square feet   bedrooms  bathrooms          price\n",
       "count    59.000000  59.000000  59.000000      59.000000\n",
       "mean   1877.033898   2.728814   2.423729  346081.762712\n",
       "std     582.721705   1.095925   1.053784  134450.664103\n",
       "min     805.000000   1.000000   1.000000  114029.000000\n",
       "25%    1437.500000   2.000000   2.000000  248915.500000\n",
       "50%    1858.000000   3.000000   2.000000  338508.000000\n",
       "75%    2235.500000   4.000000   3.000000  450275.500000\n",
       "max    3000.000000   4.000000   5.000000  587000.000000"
      ]
     },
     "execution_count": 48,
     "metadata": {},
     "output_type": "execute_result"
    }
   ],
   "source": [
    "print(houses.head())\n",
    "print(len(houses))\n",
    "print(houses.columns)\n",
    "houses.describe()"
   ]
  },
  {
   "cell_type": "markdown",
   "metadata": {},
   "source": [
    "Here is some descriptive analysis on bid data. "
   ]
  },
  {
   "cell_type": "code",
   "execution_count": 41,
   "metadata": {},
   "outputs": [
    {
     "name": "stdout",
     "output_type": "stream",
     "text": [
      "   square feet  bedrooms  bathrooms  Predicted Prices\n",
      "0         1500         3          1         304315.59\n",
      "1         1300         2          2         270271.17\n",
      "2         2300         5          2         472832.87\n",
      "3         2000         4          2         406802.97\n",
      "4         1000         2          2         256855.17\n",
      "   square feet  bedrooms  bathrooms  Predicted Prices\n",
      "5         1100         3          2         313941.07\n",
      "6         1400         3          2         327357.07\n",
      "7         2700         5          3         518234.35\n",
      "8          900         1          1         172255.79\n",
      "9         1000         2          1         229341.69\n",
      "10\n",
      "Index(['square feet', 'bedrooms', 'bathrooms', 'Predicted Prices'], dtype='object')\n"
     ]
    },
    {
     "data": {
      "text/html": [
       "<div>\n",
       "<style scoped>\n",
       "    .dataframe tbody tr th:only-of-type {\n",
       "        vertical-align: middle;\n",
       "    }\n",
       "\n",
       "    .dataframe tbody tr th {\n",
       "        vertical-align: top;\n",
       "    }\n",
       "\n",
       "    .dataframe thead th {\n",
       "        text-align: right;\n",
       "    }\n",
       "</style>\n",
       "<table border=\"1\" class=\"dataframe\">\n",
       "  <thead>\n",
       "    <tr style=\"text-align: right;\">\n",
       "      <th></th>\n",
       "      <th>square feet</th>\n",
       "      <th>bedrooms</th>\n",
       "      <th>bathrooms</th>\n",
       "      <th>Predicted Prices</th>\n",
       "    </tr>\n",
       "  </thead>\n",
       "  <tbody>\n",
       "    <tr>\n",
       "      <th>count</th>\n",
       "      <td>10.00000</td>\n",
       "      <td>10.000000</td>\n",
       "      <td>10.000000</td>\n",
       "      <td>10.000000</td>\n",
       "    </tr>\n",
       "    <tr>\n",
       "      <th>mean</th>\n",
       "      <td>1520.00000</td>\n",
       "      <td>3.000000</td>\n",
       "      <td>1.800000</td>\n",
       "      <td>327220.774000</td>\n",
       "    </tr>\n",
       "    <tr>\n",
       "      <th>std</th>\n",
       "      <td>614.27464</td>\n",
       "      <td>1.333333</td>\n",
       "      <td>0.632456</td>\n",
       "      <td>108787.483032</td>\n",
       "    </tr>\n",
       "    <tr>\n",
       "      <th>min</th>\n",
       "      <td>900.00000</td>\n",
       "      <td>1.000000</td>\n",
       "      <td>1.000000</td>\n",
       "      <td>172255.790000</td>\n",
       "    </tr>\n",
       "    <tr>\n",
       "      <th>25%</th>\n",
       "      <td>1025.00000</td>\n",
       "      <td>2.000000</td>\n",
       "      <td>1.250000</td>\n",
       "      <td>260209.170000</td>\n",
       "    </tr>\n",
       "    <tr>\n",
       "      <th>50%</th>\n",
       "      <td>1350.00000</td>\n",
       "      <td>3.000000</td>\n",
       "      <td>2.000000</td>\n",
       "      <td>309128.330000</td>\n",
       "    </tr>\n",
       "    <tr>\n",
       "      <th>75%</th>\n",
       "      <td>1875.00000</td>\n",
       "      <td>3.750000</td>\n",
       "      <td>2.000000</td>\n",
       "      <td>386941.495000</td>\n",
       "    </tr>\n",
       "    <tr>\n",
       "      <th>max</th>\n",
       "      <td>2700.00000</td>\n",
       "      <td>5.000000</td>\n",
       "      <td>3.000000</td>\n",
       "      <td>518234.350000</td>\n",
       "    </tr>\n",
       "  </tbody>\n",
       "</table>\n",
       "</div>"
      ],
      "text/plain": [
       "       square feet   bedrooms  bathrooms  Predicted Prices\n",
       "count     10.00000  10.000000  10.000000         10.000000\n",
       "mean    1520.00000   3.000000   1.800000     327220.774000\n",
       "std      614.27464   1.333333   0.632456     108787.483032\n",
       "min      900.00000   1.000000   1.000000     172255.790000\n",
       "25%     1025.00000   2.000000   1.250000     260209.170000\n",
       "50%     1350.00000   3.000000   2.000000     309128.330000\n",
       "75%     1875.00000   3.750000   2.000000     386941.495000\n",
       "max     2700.00000   5.000000   3.000000     518234.350000"
      ]
     },
     "execution_count": 41,
     "metadata": {},
     "output_type": "execute_result"
    }
   ],
   "source": [
    "print(bid.head())\n",
    "print(bid.tail())\n",
    "print(len(bid))\n",
    "print(bid.columns)\n",
    "bid.describe()"
   ]
  },
  {
   "cell_type": "markdown",
   "metadata": {},
   "source": [
    "# Price VS Number of bedrooms\n",
    "\n",
    "I bet that second most important factor that affects the price of the house is the number of bedroom. \n",
    "\n",
    "I can create a scatter plot to see the distribution. I also combine the second dataset to this scatter plot to compare them and to see if the model has the ability to predict prices.\n",
    "\n",
    "As you see, the blue dots represent the past house data. Clearly, the houses which contain 3 or 4 bedrooms are more expensive. \n",
    "\n",
    "The yellow dots represent the predicted prices of the second data set. It shows that the houses which contain 4 bedrooms are more expensive. However, it doesn't seem to be a good comparision because there are not that many predicted prices contained in the second dataset (only 9). Moreover, there could be more factors that affect the price of a house such as geographical location, and the age of the house"
   ]
  },
  {
   "cell_type": "code",
   "execution_count": 50,
   "metadata": {},
   "outputs": [
    {
     "data": {
      "text/plain": [
       "<function seaborn.utils.despine(fig=None, ax=None, top=True, right=True, left=False, bottom=False, offset=None, trim=False)>"
      ]
     },
     "execution_count": 50,
     "metadata": {},
     "output_type": "execute_result"
    },
    {
     "data": {
      "image/png": "[encoded data removed]",
      "text/plain": [
       "<Figure size 432x288 with 1 Axes>"
      ]
     },
     "metadata": {},
     "output_type": "display_data"
    }
   ],
   "source": [
    "plt.scatter(houses.bedrooms, houses.price, label = 'Actual Price')\n",
    "plt.scatter(bid.bedrooms, bid['Predicted Prices'], label = 'Predicted Price')\n",
    "plt.title('number of bedrooms')\n",
    "plt.xlabel('bedrooms')\n",
    "plt.ylabel('Price (USD)')\n",
    "plt.legend(loc='upper left')\n",
    "sns.despine"
   ]
  },
  {
   "cell_type": "markdown",
   "metadata": {},
   "source": [
    "# How about the other factors?\n",
    "\n",
    "Let's see how we can create a linear regression model using the square feet, number of bedrooms and number of bathrooms"
   ]
  },
  {
   "cell_type": "code",
   "execution_count": 27,
   "metadata": {},
   "outputs": [
    {
     "data": {
      "text/plain": [
       "LinearRegression(copy_X=True, fit_intercept=True, n_jobs=1, normalize=False)"
      ]
     },
     "execution_count": 27,
     "metadata": {},
     "output_type": "execute_result"
    }
   ],
   "source": [
    "from sklearn.linear_model import LinearRegression\n",
    "x = houses.drop('price', axis = 1)\n",
    "lm = LinearRegression()\n",
    "lm.fit(x, houses.price)"
   ]
  },
  {
   "cell_type": "code",
   "execution_count": 29,
   "metadata": {},
   "outputs": [
    {
     "name": "stdout",
     "output_type": "stream",
     "text": [
      "estimated intercept coefficient: 51880.41082236136\n",
      "number of coefficients: 3\n"
     ]
    }
   ],
   "source": [
    "print('estimated intercept coefficient:', lm.intercept_)\n",
    "print('number of coefficients:', len(lm.coef_))"
   ]
  },
  {
   "cell_type": "code",
   "execution_count": 37,
   "metadata": {},
   "outputs": [
    {
     "data": {
      "text/html": [
       "<div>\n",
       "<style scoped>\n",
       "    .dataframe tbody tr th:only-of-type {\n",
       "        vertical-align: middle;\n",
       "    }\n",
       "\n",
       "    .dataframe tbody tr th {\n",
       "        vertical-align: top;\n",
       "    }\n",
       "\n",
       "    .dataframe thead th {\n",
       "        text-align: right;\n",
       "    }\n",
       "</style>\n",
       "<table border=\"1\" class=\"dataframe\">\n",
       "  <thead>\n",
       "    <tr style=\"text-align: right;\">\n",
       "      <th></th>\n",
       "      <th>Features</th>\n",
       "      <th>estimated coefficients</th>\n",
       "    </tr>\n",
       "  </thead>\n",
       "  <tbody>\n",
       "    <tr>\n",
       "      <th>0</th>\n",
       "      <td>square feet</td>\n",
       "      <td>44.720885</td>\n",
       "    </tr>\n",
       "    <tr>\n",
       "      <th>1</th>\n",
       "      <td>bedrooms</td>\n",
       "      <td>52613.902475</td>\n",
       "    </tr>\n",
       "    <tr>\n",
       "      <th>2</th>\n",
       "      <td>bathrooms</td>\n",
       "      <td>27513.475624</td>\n",
       "    </tr>\n",
       "  </tbody>\n",
       "</table>\n",
       "</div>"
      ],
      "text/plain": [
       "      Features  estimated coefficients\n",
       "0  square feet               44.720885\n",
       "1     bedrooms            52613.902475\n",
       "2    bathrooms            27513.475624"
      ]
     },
     "execution_count": 37,
     "metadata": {},
     "output_type": "execute_result"
    }
   ],
   "source": [
    "#estimated coefficients\n",
    "pd.DataFrame(list(zip(x.columns, lm.coef_)), columns = ['Features', 'estimated coefficients'])"
   ]
  },
  {
   "cell_type": "markdown",
   "metadata": {},
   "source": [
    "Therefore, the model is Y = 51880.41 + 44.72 * sq + 52613.9 * bedrooms + 27513.48 * bathrooms \n",
    "\n",
    "There is a high corrlation between the number of bedrooms and the price. One extra bedroom can increase the price of the house by $52,613.9"
   ]
  }
 ],
 "metadata": {
  "kernelspec": {
   "display_name": "Python 3",
   "language": "python",
   "name": "python3"
  },
  "language_info": {
   "codemirror_mode": {
    "name": "ipython",
    "version": 3
   },
   "file_extension": ".py",
   "mimetype": "text/x-python",
   "name": "python",
   "nbconvert_exporter": "python",
   "pygments_lexer": "ipython3",
   "version": "3.6.5"
  }
 },
 "nbformat": 4,
 "nbformat_minor": 2
}
